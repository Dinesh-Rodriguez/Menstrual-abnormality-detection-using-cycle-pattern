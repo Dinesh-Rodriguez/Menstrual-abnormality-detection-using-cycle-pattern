{
 "cells": [
  {
   "cell_type": "code",
   "execution_count": 1,
   "id": "00dd6ee1",
   "metadata": {},
   "outputs": [
    {
     "name": "stdout",
     "output_type": "stream",
     "text": [
      "    age   bmi      life_stage  tracking_duration_months  pain_score  \\\n",
      "0  51.0  19.4  perimenopausal                      22.0         2.0   \n",
      "1  41.0  22.4    reproductive                      15.0         0.0   \n",
      "2  27.0  27.0    reproductive                      12.0         1.0   \n",
      "3  20.0  22.4    reproductive                      14.0         1.0   \n",
      "4  33.0  22.8    reproductive                      11.0         3.0   \n",
      "\n",
      "   avg_cycle_length  cycle_length_variation  avg_bleeding_days  \\\n",
      "0               NaN               59.154302                5.0   \n",
      "1               NaN               26.434149                4.0   \n",
      "2         38.211179               39.886876                4.0   \n",
      "3               NaN               23.175502                NaN   \n",
      "4               NaN                0.000000                NaN   \n",
      "\n",
      "   bleeding_volume_score  intermenstrual_episodes  cycle_variation_coeff  \\\n",
      "0                    2.0                      1.0               0.000000   \n",
      "1                    2.0                      0.0                    NaN   \n",
      "2                    NaN                      0.0             103.660141   \n",
      "3                    2.0                      0.0             121.021249   \n",
      "4                    2.0                      0.0               0.000000   \n",
      "\n",
      "   pattern_disruption_score  duration_abnormality_flag  Oligomenorrhea  \\\n",
      "0                 20.000000                        0.0             1.0   \n",
      "1                 10.000000                        0.0             1.0   \n",
      "2                 92.928112                        0.0             1.0   \n",
      "3                100.000000                        0.0             0.0   \n",
      "4                 10.000000                        1.0             0.0   \n",
      "\n",
      "   Polymenorrhea  Menorrhagia  Amenorrhea  Intermenstrual  \n",
      "0            0.0          0.0         0.0             0.0  \n",
      "1            0.0          0.0         0.0             0.0  \n",
      "2            0.0          0.0         0.0             0.0  \n",
      "3            1.0          0.0         0.0             0.0  \n",
      "4            0.0          0.0         1.0             NaN  \n"
     ]
    }
   ],
   "source": [
    "import pandas as pd\n",
    "\n",
    "\n",
    "df = pd.read_csv(\"menstrual_irregularity_dataset(1).csv\")\n",
    "\n",
    "\n",
    "print(df.head())\n"
   ]
  }
 ],
 "metadata": {
  "kernelspec": {
   "display_name": "base",
   "language": "python",
   "name": "python3"
  },
  "language_info": {
   "codemirror_mode": {
    "name": "ipython",
    "version": 3
   },
   "file_extension": ".py",
   "mimetype": "text/x-python",
   "name": "python",
   "nbconvert_exporter": "python",
   "pygments_lexer": "ipython3",
   "version": "3.12.3"
  }
 },
 "nbformat": 4,
 "nbformat_minor": 5
}
